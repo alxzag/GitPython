{
 "cells": [
  {
   "cell_type": "markdown",
   "metadata": {},
   "source": [
    "## Placeholders in TensorFlow are similar to variables.\n",
    "## You dont have to provide an initial value and you can specify it at runtime with feed_dict argument inside Session.run"
   ]
  },
  {
   "cell_type": "code",
   "execution_count": 1,
   "metadata": {},
   "outputs": [],
   "source": [
    "import tensorflow as tf"
   ]
  },
  {
   "cell_type": "code",
   "execution_count": 2,
   "metadata": {},
   "outputs": [],
   "source": [
    "#setup placeholder using tf.placeholder. We need dtype, shape (optional) and name (optional)\n",
    "x = tf.placeholder(tf.int32, shape=[3],name='x')\n",
    "y = tf.placeholder(tf.int32, shape=[3],name='y') # needs to be same type with x"
   ]
  },
  {
   "cell_type": "code",
   "execution_count": 3,
   "metadata": {},
   "outputs": [],
   "source": [
    "# Inserts a placeholder for a tensor that will be always fed.\n",
    "# The shape of the tensor to be fed (optional). If the shape is not specified, you can feed a tensor of any shape."
   ]
  },
  {
   "cell_type": "code",
   "execution_count": 4,
   "metadata": {},
   "outputs": [],
   "source": [
    "sum_x = tf.reduce_sum(x,name=\"sum_x\") # Computes the sum of elements across dimensions of a tensor.\n",
    "prod_y = tf.reduce_prod(y,name=\"prod_y\") # Computes the product of elements across dimensions of a tensor."
   ]
  },
  {
   "cell_type": "code",
   "execution_count": 5,
   "metadata": {},
   "outputs": [
    {
     "name": "stdout",
     "output_type": "stream",
     "text": [
      "sum(x):  600\n",
      "prod(y):  6\n"
     ]
    }
   ],
   "source": [
    "final_mean = tf.reduce_mean([sum_x, prod_y], name=\"final_mean\")\n",
    "sess = tf.Session()\n",
    "print (\"sum(x): \", sess.run(sum_x, feed_dict={x: [100,200,300]})) # The shape is 3, so we need to feed it with 3 objects.\n",
    "print (\"prod(y): \", sess.run(prod_y, feed_dict={y: [1,2,3]}))\n",
    "writer = tf.summary.FileWriter('./tensorflow_example',sess.graph)"
   ]
  },
  {
   "cell_type": "code",
   "execution_count": null,
   "metadata": {},
   "outputs": [],
   "source": []
  }
 ],
 "metadata": {
  "kernelspec": {
   "display_name": "Python 3",
   "language": "python",
   "name": "python3"
  },
  "language_info": {
   "codemirror_mode": {
    "name": "ipython",
    "version": 3
   },
   "file_extension": ".py",
   "mimetype": "text/x-python",
   "name": "python",
   "nbconvert_exporter": "python",
   "pygments_lexer": "ipython3",
   "version": "3.6.7"
  }
 },
 "nbformat": 4,
 "nbformat_minor": 2
}
