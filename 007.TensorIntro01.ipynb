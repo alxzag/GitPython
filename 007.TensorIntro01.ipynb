{
 "cells": [
  {
   "cell_type": "code",
   "execution_count": 1,
   "metadata": {},
   "outputs": [],
   "source": [
    "import tensorflow as tf"
   ]
  },
  {
   "cell_type": "code",
   "execution_count": 5,
   "metadata": {},
   "outputs": [],
   "source": [
    "## a,b,c,d are the TENSORS flowing through the graph\n",
    "# To name einai optional!!\n",
    "a=tf.constant(6,name='constant_a') \n",
    "b=tf.constant(3,name='constant_b')\n",
    "c=tf.constant(10,name='constant_c')\n",
    "d=tf.constant(5,name='constant_d')"
   ]
  },
  {
   "cell_type": "code",
   "execution_count": 8,
   "metadata": {},
   "outputs": [],
   "source": [
    "# mul is a node (operation) that specifies multiplication\n",
    "# To name einai optional!!\n",
    "mul=tf.multiply(a,b,name='mul')\n",
    "\n",
    "# div is a node (operation) that specifies division of c by d\n",
    "div=tf.div(c,d,name='div')\n",
    "\n",
    "\n",
    "# add_n is a node (operation) that specifies addition of inputs\n",
    "addn=tf.add_n([mul,div],name='addn')"
   ]
  },
  {
   "cell_type": "code",
   "execution_count": 10,
   "metadata": {},
   "outputs": [
    {
     "data": {
      "text/plain": [
       "18"
      ]
     },
     "execution_count": 10,
     "metadata": {},
     "output_type": "execute_result"
    }
   ],
   "source": [
    "# in order to optain results i run Sessions\n",
    "sess=tf.Session()  #launch the graph in a Session\n",
    "sess.run(mul) #run the Session"
   ]
  },
  {
   "cell_type": "code",
   "execution_count": 11,
   "metadata": {},
   "outputs": [
    {
     "data": {
      "text/plain": [
       "2"
      ]
     },
     "execution_count": 11,
     "metadata": {},
     "output_type": "execute_result"
    }
   ],
   "source": [
    "sess=tf.Session()  #launch the graph in a Session\n",
    "sess.run(div) #run the Session"
   ]
  },
  {
   "cell_type": "code",
   "execution_count": 12,
   "metadata": {},
   "outputs": [
    {
     "data": {
      "text/plain": [
       "20"
      ]
     },
     "execution_count": 12,
     "metadata": {},
     "output_type": "execute_result"
    }
   ],
   "source": [
    "sess=tf.Session()  #launch the graph in a Session\n",
    "sess.run(addn) #run the Session"
   ]
  },
  {
   "cell_type": "code",
   "execution_count": null,
   "metadata": {},
   "outputs": [],
   "source": []
  }
 ],
 "metadata": {
  "kernelspec": {
   "display_name": "Python 3",
   "language": "python",
   "name": "python3"
  },
  "language_info": {
   "codemirror_mode": {
    "name": "ipython",
    "version": 3
   },
   "file_extension": ".py",
   "mimetype": "text/x-python",
   "name": "python",
   "nbconvert_exporter": "python",
   "pygments_lexer": "ipython3",
   "version": "3.6.7"
  }
 },
 "nbformat": 4,
 "nbformat_minor": 2
}
