{
 "cells": [
  {
   "cell_type": "markdown",
   "metadata": {},
   "source": [
    "## Linear Regressor (real data)"
   ]
  },
  {
   "cell_type": "markdown",
   "metadata": {},
   "source": [
    "### We have to predict price!"
   ]
  },
  {
   "cell_type": "code",
   "execution_count": 13,
   "metadata": {},
   "outputs": [],
   "source": [
    "import pandas as pd\n",
    "import numpy as np\n",
    "import matplotlib.pyplot as plt\n",
    "import tensorflow as tf\n",
    "plt.style.use(\"seaborn-colorblind\")\n",
    "from sklearn.model_selection import train_test_split"
   ]
  },
  {
   "cell_type": "code",
   "execution_count": 14,
   "metadata": {},
   "outputs": [],
   "source": [
    "used_features = ['property_type','room_type','bathrooms','bedrooms','beds','bed_type','accommodates','host_total_listings_count'\n",
    "                ,'number_of_reviews','review_scores_value','neighbourhood_cleansed','cleaning_fee','minimum_nights','security_deposit','host_is_superhost',\n",
    "                 'instant_bookable', 'price']"
   ]
  },
  {
   "cell_type": "code",
   "execution_count": 15,
   "metadata": {},
   "outputs": [
    {
     "name": "stdout",
     "output_type": "stream",
     "text": [
      "(3585, 17)\n"
     ]
    },
    {
     "data": {
      "text/html": [
       "<div>\n",
       "<style scoped>\n",
       "    .dataframe tbody tr th:only-of-type {\n",
       "        vertical-align: middle;\n",
       "    }\n",
       "\n",
       "    .dataframe tbody tr th {\n",
       "        vertical-align: top;\n",
       "    }\n",
       "\n",
       "    .dataframe thead th {\n",
       "        text-align: right;\n",
       "    }\n",
       "</style>\n",
       "<table border=\"1\" class=\"dataframe\">\n",
       "  <thead>\n",
       "    <tr style=\"text-align: right;\">\n",
       "      <th></th>\n",
       "      <th>host_is_superhost</th>\n",
       "      <th>host_total_listings_count</th>\n",
       "      <th>neighbourhood_cleansed</th>\n",
       "      <th>property_type</th>\n",
       "      <th>room_type</th>\n",
       "      <th>accommodates</th>\n",
       "      <th>bathrooms</th>\n",
       "      <th>bedrooms</th>\n",
       "      <th>beds</th>\n",
       "      <th>bed_type</th>\n",
       "      <th>price</th>\n",
       "      <th>security_deposit</th>\n",
       "      <th>cleaning_fee</th>\n",
       "      <th>minimum_nights</th>\n",
       "      <th>number_of_reviews</th>\n",
       "      <th>review_scores_value</th>\n",
       "      <th>instant_bookable</th>\n",
       "    </tr>\n",
       "  </thead>\n",
       "  <tbody>\n",
       "    <tr>\n",
       "      <th>0</th>\n",
       "      <td>f</td>\n",
       "      <td>1</td>\n",
       "      <td>Roslindale</td>\n",
       "      <td>House</td>\n",
       "      <td>Entire home/apt</td>\n",
       "      <td>4</td>\n",
       "      <td>1.5</td>\n",
       "      <td>2.0</td>\n",
       "      <td>3.0</td>\n",
       "      <td>Real Bed</td>\n",
       "      <td>$250.00</td>\n",
       "      <td>NaN</td>\n",
       "      <td>$35.00</td>\n",
       "      <td>2</td>\n",
       "      <td>0</td>\n",
       "      <td>NaN</td>\n",
       "      <td>f</td>\n",
       "    </tr>\n",
       "    <tr>\n",
       "      <th>1</th>\n",
       "      <td>f</td>\n",
       "      <td>1</td>\n",
       "      <td>Roslindale</td>\n",
       "      <td>Apartment</td>\n",
       "      <td>Private room</td>\n",
       "      <td>2</td>\n",
       "      <td>1.0</td>\n",
       "      <td>1.0</td>\n",
       "      <td>1.0</td>\n",
       "      <td>Real Bed</td>\n",
       "      <td>$65.00</td>\n",
       "      <td>$95.00</td>\n",
       "      <td>$10.00</td>\n",
       "      <td>2</td>\n",
       "      <td>36</td>\n",
       "      <td>9.0</td>\n",
       "      <td>t</td>\n",
       "    </tr>\n",
       "    <tr>\n",
       "      <th>2</th>\n",
       "      <td>t</td>\n",
       "      <td>1</td>\n",
       "      <td>Roslindale</td>\n",
       "      <td>Apartment</td>\n",
       "      <td>Private room</td>\n",
       "      <td>2</td>\n",
       "      <td>1.0</td>\n",
       "      <td>1.0</td>\n",
       "      <td>1.0</td>\n",
       "      <td>Real Bed</td>\n",
       "      <td>$65.00</td>\n",
       "      <td>NaN</td>\n",
       "      <td>NaN</td>\n",
       "      <td>3</td>\n",
       "      <td>41</td>\n",
       "      <td>10.0</td>\n",
       "      <td>f</td>\n",
       "    </tr>\n",
       "    <tr>\n",
       "      <th>3</th>\n",
       "      <td>f</td>\n",
       "      <td>1</td>\n",
       "      <td>Roslindale</td>\n",
       "      <td>House</td>\n",
       "      <td>Private room</td>\n",
       "      <td>4</td>\n",
       "      <td>1.0</td>\n",
       "      <td>1.0</td>\n",
       "      <td>2.0</td>\n",
       "      <td>Real Bed</td>\n",
       "      <td>$75.00</td>\n",
       "      <td>$100.00</td>\n",
       "      <td>$50.00</td>\n",
       "      <td>1</td>\n",
       "      <td>1</td>\n",
       "      <td>10.0</td>\n",
       "      <td>f</td>\n",
       "    </tr>\n",
       "    <tr>\n",
       "      <th>4</th>\n",
       "      <td>t</td>\n",
       "      <td>1</td>\n",
       "      <td>Roslindale</td>\n",
       "      <td>House</td>\n",
       "      <td>Private room</td>\n",
       "      <td>2</td>\n",
       "      <td>1.5</td>\n",
       "      <td>1.0</td>\n",
       "      <td>2.0</td>\n",
       "      <td>Real Bed</td>\n",
       "      <td>$79.00</td>\n",
       "      <td>NaN</td>\n",
       "      <td>$15.00</td>\n",
       "      <td>2</td>\n",
       "      <td>29</td>\n",
       "      <td>10.0</td>\n",
       "      <td>f</td>\n",
       "    </tr>\n",
       "    <tr>\n",
       "      <th>5</th>\n",
       "      <td>t</td>\n",
       "      <td>2</td>\n",
       "      <td>Roslindale</td>\n",
       "      <td>Condominium</td>\n",
       "      <td>Private room</td>\n",
       "      <td>2</td>\n",
       "      <td>1.0</td>\n",
       "      <td>1.0</td>\n",
       "      <td>1.0</td>\n",
       "      <td>Real Bed</td>\n",
       "      <td>$75.00</td>\n",
       "      <td>NaN</td>\n",
       "      <td>$30.00</td>\n",
       "      <td>2</td>\n",
       "      <td>8</td>\n",
       "      <td>10.0</td>\n",
       "      <td>f</td>\n",
       "    </tr>\n",
       "    <tr>\n",
       "      <th>6</th>\n",
       "      <td>f</td>\n",
       "      <td>5</td>\n",
       "      <td>Roslindale</td>\n",
       "      <td>Apartment</td>\n",
       "      <td>Entire home/apt</td>\n",
       "      <td>3</td>\n",
       "      <td>1.0</td>\n",
       "      <td>1.0</td>\n",
       "      <td>2.0</td>\n",
       "      <td>Real Bed</td>\n",
       "      <td>$100.00</td>\n",
       "      <td>NaN</td>\n",
       "      <td>NaN</td>\n",
       "      <td>1</td>\n",
       "      <td>57</td>\n",
       "      <td>9.0</td>\n",
       "      <td>f</td>\n",
       "    </tr>\n",
       "  </tbody>\n",
       "</table>\n",
       "</div>"
      ],
      "text/plain": [
       "  host_is_superhost  host_total_listings_count neighbourhood_cleansed  \\\n",
       "0                 f                          1             Roslindale   \n",
       "1                 f                          1             Roslindale   \n",
       "2                 t                          1             Roslindale   \n",
       "3                 f                          1             Roslindale   \n",
       "4                 t                          1             Roslindale   \n",
       "5                 t                          2             Roslindale   \n",
       "6                 f                          5             Roslindale   \n",
       "\n",
       "  property_type        room_type  accommodates  bathrooms  bedrooms  beds  \\\n",
       "0         House  Entire home/apt             4        1.5       2.0   3.0   \n",
       "1     Apartment     Private room             2        1.0       1.0   1.0   \n",
       "2     Apartment     Private room             2        1.0       1.0   1.0   \n",
       "3         House     Private room             4        1.0       1.0   2.0   \n",
       "4         House     Private room             2        1.5       1.0   2.0   \n",
       "5   Condominium     Private room             2        1.0       1.0   1.0   \n",
       "6     Apartment  Entire home/apt             3        1.0       1.0   2.0   \n",
       "\n",
       "   bed_type    price security_deposit cleaning_fee  minimum_nights  \\\n",
       "0  Real Bed  $250.00              NaN       $35.00               2   \n",
       "1  Real Bed   $65.00           $95.00       $10.00               2   \n",
       "2  Real Bed   $65.00              NaN          NaN               3   \n",
       "3  Real Bed   $75.00          $100.00       $50.00               1   \n",
       "4  Real Bed   $79.00              NaN       $15.00               2   \n",
       "5  Real Bed   $75.00              NaN       $30.00               2   \n",
       "6  Real Bed  $100.00              NaN          NaN               1   \n",
       "\n",
       "   number_of_reviews  review_scores_value instant_bookable  \n",
       "0                  0                  NaN                f  \n",
       "1                 36                  9.0                t  \n",
       "2                 41                 10.0                f  \n",
       "3                  1                 10.0                f  \n",
       "4                 29                 10.0                f  \n",
       "5                  8                 10.0                f  \n",
       "6                 57                  9.0                f  "
      ]
     },
     "execution_count": 15,
     "metadata": {},
     "output_type": "execute_result"
    }
   ],
   "source": [
    "boston = pd.read_csv('listings.csv', usecols = used_features)#actual data\n",
    "print(boston.shape)\n",
    "boston.head(7)"
   ]
  },
  {
   "cell_type": "markdown",
   "metadata": {},
   "source": [
    "### Remove the dollar sign from prices with lamda function"
   ]
  },
  {
   "cell_type": "code",
   "execution_count": 16,
   "metadata": {},
   "outputs": [],
   "source": [
    "for feature in [\"cleaning_fee\",\"security_deposit\",\"price\"]:\n",
    "    boston[feature] = boston[feature].map(lambda x:x.replace(\"$\",'').replace(\",\",''),na_action = 'ignore')\n",
    "    boston[feature] = boston[feature].astype(float)\n",
    "    boston[feature].fillna(boston[feature].median(),inplace = True) # fill in missing values with median values"
   ]
  },
  {
   "cell_type": "markdown",
   "metadata": {},
   "source": [
    "### Fill in NAs"
   ]
  },
  {
   "cell_type": "code",
   "execution_count": 17,
   "metadata": {},
   "outputs": [],
   "source": [
    "for feature in [\"bathrooms\",\"bedrooms\",\"beds\",\"review_scores_value\"]:\n",
    "    boston[feature].fillna(boston[feature].median(),inplace = True)"
   ]
  },
  {
   "cell_type": "code",
   "execution_count": 18,
   "metadata": {},
   "outputs": [],
   "source": [
    "boston['property_type'].fillna('Apartment',inplace = True)"
   ]
  },
  {
   "cell_type": "markdown",
   "metadata": {},
   "source": [
    "### Responce variable"
   ]
  },
  {
   "cell_type": "code",
   "execution_count": 19,
   "metadata": {},
   "outputs": [],
   "source": [
    "boston = boston[(boston[\"price\"]>50)&(boston[\"price\"]<500)]\n",
    "target = np.log(boston.price)"
   ]
  },
  {
   "cell_type": "markdown",
   "metadata": {},
   "source": [
    "### Predictors"
   ]
  },
  {
   "cell_type": "code",
   "execution_count": 21,
   "metadata": {},
   "outputs": [
    {
     "data": {
      "text/html": [
       "<div>\n",
       "<style scoped>\n",
       "    .dataframe tbody tr th:only-of-type {\n",
       "        vertical-align: middle;\n",
       "    }\n",
       "\n",
       "    .dataframe tbody tr th {\n",
       "        vertical-align: top;\n",
       "    }\n",
       "\n",
       "    .dataframe thead th {\n",
       "        text-align: right;\n",
       "    }\n",
       "</style>\n",
       "<table border=\"1\" class=\"dataframe\">\n",
       "  <thead>\n",
       "    <tr style=\"text-align: right;\">\n",
       "      <th></th>\n",
       "      <th>host_is_superhost</th>\n",
       "      <th>host_total_listings_count</th>\n",
       "      <th>neighbourhood_cleansed</th>\n",
       "      <th>property_type</th>\n",
       "      <th>room_type</th>\n",
       "      <th>accommodates</th>\n",
       "      <th>bathrooms</th>\n",
       "      <th>bedrooms</th>\n",
       "      <th>beds</th>\n",
       "      <th>bed_type</th>\n",
       "      <th>security_deposit</th>\n",
       "      <th>cleaning_fee</th>\n",
       "      <th>minimum_nights</th>\n",
       "      <th>number_of_reviews</th>\n",
       "      <th>review_scores_value</th>\n",
       "      <th>instant_bookable</th>\n",
       "    </tr>\n",
       "  </thead>\n",
       "  <tbody>\n",
       "    <tr>\n",
       "      <th>0</th>\n",
       "      <td>f</td>\n",
       "      <td>1</td>\n",
       "      <td>Roslindale</td>\n",
       "      <td>House</td>\n",
       "      <td>Entire home/apt</td>\n",
       "      <td>4</td>\n",
       "      <td>1.5</td>\n",
       "      <td>2.0</td>\n",
       "      <td>3.0</td>\n",
       "      <td>Real Bed</td>\n",
       "      <td>250.0</td>\n",
       "      <td>35.0</td>\n",
       "      <td>2</td>\n",
       "      <td>0</td>\n",
       "      <td>9.0</td>\n",
       "      <td>f</td>\n",
       "    </tr>\n",
       "    <tr>\n",
       "      <th>1</th>\n",
       "      <td>f</td>\n",
       "      <td>1</td>\n",
       "      <td>Roslindale</td>\n",
       "      <td>Apartment</td>\n",
       "      <td>Private room</td>\n",
       "      <td>2</td>\n",
       "      <td>1.0</td>\n",
       "      <td>1.0</td>\n",
       "      <td>1.0</td>\n",
       "      <td>Real Bed</td>\n",
       "      <td>95.0</td>\n",
       "      <td>10.0</td>\n",
       "      <td>2</td>\n",
       "      <td>36</td>\n",
       "      <td>9.0</td>\n",
       "      <td>t</td>\n",
       "    </tr>\n",
       "    <tr>\n",
       "      <th>2</th>\n",
       "      <td>t</td>\n",
       "      <td>1</td>\n",
       "      <td>Roslindale</td>\n",
       "      <td>Apartment</td>\n",
       "      <td>Private room</td>\n",
       "      <td>2</td>\n",
       "      <td>1.0</td>\n",
       "      <td>1.0</td>\n",
       "      <td>1.0</td>\n",
       "      <td>Real Bed</td>\n",
       "      <td>250.0</td>\n",
       "      <td>50.0</td>\n",
       "      <td>3</td>\n",
       "      <td>41</td>\n",
       "      <td>10.0</td>\n",
       "      <td>f</td>\n",
       "    </tr>\n",
       "    <tr>\n",
       "      <th>3</th>\n",
       "      <td>f</td>\n",
       "      <td>1</td>\n",
       "      <td>Roslindale</td>\n",
       "      <td>House</td>\n",
       "      <td>Private room</td>\n",
       "      <td>4</td>\n",
       "      <td>1.0</td>\n",
       "      <td>1.0</td>\n",
       "      <td>2.0</td>\n",
       "      <td>Real Bed</td>\n",
       "      <td>100.0</td>\n",
       "      <td>50.0</td>\n",
       "      <td>1</td>\n",
       "      <td>1</td>\n",
       "      <td>10.0</td>\n",
       "      <td>f</td>\n",
       "    </tr>\n",
       "    <tr>\n",
       "      <th>4</th>\n",
       "      <td>t</td>\n",
       "      <td>1</td>\n",
       "      <td>Roslindale</td>\n",
       "      <td>House</td>\n",
       "      <td>Private room</td>\n",
       "      <td>2</td>\n",
       "      <td>1.5</td>\n",
       "      <td>1.0</td>\n",
       "      <td>2.0</td>\n",
       "      <td>Real Bed</td>\n",
       "      <td>250.0</td>\n",
       "      <td>15.0</td>\n",
       "      <td>2</td>\n",
       "      <td>29</td>\n",
       "      <td>10.0</td>\n",
       "      <td>f</td>\n",
       "    </tr>\n",
       "  </tbody>\n",
       "</table>\n",
       "</div>"
      ],
      "text/plain": [
       "  host_is_superhost  host_total_listings_count neighbourhood_cleansed  \\\n",
       "0                 f                          1             Roslindale   \n",
       "1                 f                          1             Roslindale   \n",
       "2                 t                          1             Roslindale   \n",
       "3                 f                          1             Roslindale   \n",
       "4                 t                          1             Roslindale   \n",
       "\n",
       "  property_type        room_type  accommodates  bathrooms  bedrooms  beds  \\\n",
       "0         House  Entire home/apt             4        1.5       2.0   3.0   \n",
       "1     Apartment     Private room             2        1.0       1.0   1.0   \n",
       "2     Apartment     Private room             2        1.0       1.0   1.0   \n",
       "3         House     Private room             4        1.0       1.0   2.0   \n",
       "4         House     Private room             2        1.5       1.0   2.0   \n",
       "\n",
       "   bed_type  security_deposit  cleaning_fee  minimum_nights  \\\n",
       "0  Real Bed             250.0          35.0               2   \n",
       "1  Real Bed              95.0          10.0               2   \n",
       "2  Real Bed             250.0          50.0               3   \n",
       "3  Real Bed             100.0          50.0               1   \n",
       "4  Real Bed             250.0          15.0               2   \n",
       "\n",
       "   number_of_reviews  review_scores_value instant_bookable  \n",
       "0                  0                  9.0                f  \n",
       "1                 36                  9.0                t  \n",
       "2                 41                 10.0                f  \n",
       "3                  1                 10.0                f  \n",
       "4                 29                 10.0                f  "
      ]
     },
     "execution_count": 21,
     "metadata": {},
     "output_type": "execute_result"
    }
   ],
   "source": [
    "features=boston.drop('price',axis=1)\n",
    "features.head() # no $ sign anymore"
   ]
  },
  {
   "cell_type": "code",
   "execution_count": 22,
   "metadata": {},
   "outputs": [],
   "source": [
    "X_train, X_test, y_train, y_test = train_test_split(features, target, test_size=0.25, random_state=42)##split"
   ]
  },
  {
   "cell_type": "code",
   "execution_count": 23,
   "metadata": {},
   "outputs": [],
   "source": [
    "# Get all the numeric feature names\n",
    "\n",
    "numeric_columns = ['host_total_listings_count','accommodates','bathrooms','bedrooms','beds',\n",
    " 'security_deposit','cleaning_fee','minimum_nights','number_of_reviews',\n",
    " 'review_scores_value']"
   ]
  },
  {
   "cell_type": "code",
   "execution_count": 24,
   "metadata": {},
   "outputs": [],
   "source": [
    "# Get all the categorical feature names that contains strings\n",
    "\n",
    "categorical_columns = ['host_is_superhost','neighbourhood_cleansed','property_type','room_type','bed_type','instant_bookable']"
   ]
  },
  {
   "cell_type": "markdown",
   "metadata": {},
   "source": [
    "### Convert numerical data to feature columns"
   ]
  },
  {
   "cell_type": "code",
   "execution_count": 25,
   "metadata": {},
   "outputs": [
    {
     "name": "stdout",
     "output_type": "stream",
     "text": [
      "_NumericColumn(key='host_total_listings_count', shape=(1,), default_value=None, dtype=tf.float32, normalizer_fn=None)\n"
     ]
    }
   ],
   "source": [
    "numeric_features = [tf.feature_column.numeric_column(key = column) for column in numeric_columns]\n",
    "print(numeric_features[0])"
   ]
  },
  {
   "cell_type": "markdown",
   "metadata": {},
   "source": [
    "### convert categorical data to feature columns"
   ]
  },
  {
   "cell_type": "code",
   "execution_count": 28,
   "metadata": {},
   "outputs": [],
   "source": [
    "categorical_features = [tf.feature_column.categorical_column_with_vocabulary_list(key = column, \n",
    "                                                                                 vocabulary_list = features[column].unique()) \n",
    "                                                                                for column in categorical_columns]"
   ]
  },
  {
   "cell_type": "code",
   "execution_count": 29,
   "metadata": {},
   "outputs": [],
   "source": [
    "linear_features = numeric_features + categorical_features"
   ]
  },
  {
   "cell_type": "markdown",
   "metadata": {},
   "source": [
    "### Create numerical input function. x=predictor, y=responce"
   ]
  },
  {
   "cell_type": "code",
   "execution_count": 31,
   "metadata": {},
   "outputs": [],
   "source": [
    "training_input_fn = tf.estimator.inputs.pandas_input_fn(x = X_train,\n",
    "                                                        y=y_train,\n",
    "                                                        batch_size=32,\n",
    "                                                        shuffle= True,\n",
    "                                                        num_epochs = None)"
   ]
  },
  {
   "cell_type": "code",
   "execution_count": 32,
   "metadata": {},
   "outputs": [],
   "source": [
    "# create testing input function\n",
    "eval_input_fn = tf.estimator.inputs.pandas_input_fn(x=X_test,\n",
    "                                                    y=y_test,\n",
    "                                                    batch_size=32,\n",
    "                                                    shuffle=False,\n",
    "                                                    num_epochs = 1)"
   ]
  },
  {
   "cell_type": "markdown",
   "metadata": {},
   "source": [
    "### Linear regressor estimator"
   ]
  },
  {
   "cell_type": "code",
   "execution_count": 33,
   "metadata": {},
   "outputs": [
    {
     "name": "stdout",
     "output_type": "stream",
     "text": [
      "INFO:tensorflow:Using default config.\n",
      "INFO:tensorflow:Using config: {'_model_dir': 'linear_regressor', '_tf_random_seed': None, '_save_summary_steps': 100, '_save_checkpoints_steps': None, '_save_checkpoints_secs': 600, '_session_config': allow_soft_placement: true\n",
      "graph_options {\n",
      "  rewrite_options {\n",
      "    meta_optimizer_iterations: ONE\n",
      "  }\n",
      "}\n",
      ", '_keep_checkpoint_max': 5, '_keep_checkpoint_every_n_hours': 10000, '_log_step_count_steps': 100, '_train_distribute': None, '_device_fn': None, '_protocol': None, '_eval_distribute': None, '_experimental_distribute': None, '_service': None, '_cluster_spec': <tensorflow.python.training.server_lib.ClusterSpec object at 0x000001A5A3A9E358>, '_task_type': 'worker', '_task_id': 0, '_global_id_in_cluster': 0, '_master': '', '_evaluation_master': '', '_is_chief': True, '_num_ps_replicas': 0, '_num_worker_replicas': 1}\n"
     ]
    }
   ],
   "source": [
    "linear_regressor = tf.estimator.LinearRegressor(feature_columns=linear_features,\n",
    "                                                model_dir = \"linear_regressor\")"
   ]
  },
  {
   "cell_type": "code",
   "execution_count": 34,
   "metadata": {},
   "outputs": [
    {
     "name": "stdout",
     "output_type": "stream",
     "text": [
      "WARNING:tensorflow:From C:\\Users\\BobRoss\\Anaconda3\\lib\\site-packages\\tensorflow\\python\\estimator\\inputs\\queues\\feeding_queue_runner.py:62: QueueRunner.__init__ (from tensorflow.python.training.queue_runner_impl) is deprecated and will be removed in a future version.\n",
      "Instructions for updating:\n",
      "To construct input pipelines, use the `tf.data` module.\n",
      "WARNING:tensorflow:From C:\\Users\\BobRoss\\Anaconda3\\lib\\site-packages\\tensorflow\\python\\estimator\\inputs\\queues\\feeding_functions.py:500: add_queue_runner (from tensorflow.python.training.queue_runner_impl) is deprecated and will be removed in a future version.\n",
      "Instructions for updating:\n",
      "To construct input pipelines, use the `tf.data` module.\n",
      "INFO:tensorflow:Calling model_fn.\n",
      "INFO:tensorflow:Done calling model_fn.\n",
      "INFO:tensorflow:Create CheckpointSaverHook.\n",
      "INFO:tensorflow:Graph was finalized.\n",
      "INFO:tensorflow:Running local_init_op.\n",
      "INFO:tensorflow:Done running local_init_op.\n",
      "WARNING:tensorflow:From C:\\Users\\BobRoss\\Anaconda3\\lib\\site-packages\\tensorflow\\python\\training\\monitored_session.py:804: start_queue_runners (from tensorflow.python.training.queue_runner_impl) is deprecated and will be removed in a future version.\n",
      "Instructions for updating:\n",
      "To construct input pipelines, use the `tf.data` module.\n",
      "INFO:tensorflow:Saving checkpoints for 0 into linear_regressor\\model.ckpt.\n",
      "INFO:tensorflow:loss = 803.6519, step = 1\n",
      "INFO:tensorflow:global_step/sec: 281.65\n",
      "INFO:tensorflow:loss = 21.72494, step = 101 (0.358 sec)\n",
      "INFO:tensorflow:global_step/sec: 596.83\n",
      "INFO:tensorflow:loss = 27.212425, step = 201 (0.168 sec)\n",
      "INFO:tensorflow:global_step/sec: 572.956\n",
      "INFO:tensorflow:loss = 6.1725473, step = 301 (0.174 sec)\n",
      "INFO:tensorflow:global_step/sec: 579.521\n",
      "INFO:tensorflow:loss = 5.5804176, step = 401 (0.175 sec)\n",
      "INFO:tensorflow:global_step/sec: 563.299\n",
      "INFO:tensorflow:loss = 7.8699894, step = 501 (0.177 sec)\n",
      "INFO:tensorflow:global_step/sec: 566.482\n",
      "INFO:tensorflow:loss = 7.4545565, step = 601 (0.177 sec)\n",
      "INFO:tensorflow:global_step/sec: 569.701\n",
      "INFO:tensorflow:loss = 11.687628, step = 701 (0.176 sec)\n",
      "INFO:tensorflow:global_step/sec: 572.956\n",
      "INFO:tensorflow:loss = 4.365494, step = 801 (0.174 sec)\n",
      "INFO:tensorflow:global_step/sec: 560.15\n",
      "INFO:tensorflow:loss = 6.425597, step = 901 (0.180 sec)\n",
      "INFO:tensorflow:global_step/sec: 547.91\n",
      "INFO:tensorflow:loss = 6.4654617, step = 1001 (0.184 sec)\n",
      "INFO:tensorflow:global_step/sec: 569.7\n",
      "INFO:tensorflow:loss = 7.1033783, step = 1101 (0.175 sec)\n",
      "INFO:tensorflow:global_step/sec: 546.397\n",
      "INFO:tensorflow:loss = 8.710746, step = 1201 (0.185 sec)\n",
      "INFO:tensorflow:global_step/sec: 549.379\n",
      "INFO:tensorflow:loss = 6.134489, step = 1301 (0.181 sec)\n",
      "INFO:tensorflow:global_step/sec: 579.58\n",
      "INFO:tensorflow:loss = 4.5289335, step = 1401 (0.171 sec)\n",
      "INFO:tensorflow:global_step/sec: 566.482\n",
      "INFO:tensorflow:loss = 3.5693333, step = 1501 (0.179 sec)\n",
      "INFO:tensorflow:global_step/sec: 539.072\n",
      "INFO:tensorflow:loss = 5.9036436, step = 1601 (0.186 sec)\n",
      "INFO:tensorflow:global_step/sec: 546.394\n",
      "INFO:tensorflow:loss = 4.233547, step = 1701 (0.182 sec)\n",
      "INFO:tensorflow:global_step/sec: 524.959\n",
      "INFO:tensorflow:loss = 4.975658, step = 1801 (0.189 sec)\n",
      "INFO:tensorflow:global_step/sec: 536.189\n",
      "INFO:tensorflow:loss = 4.6354847, step = 1901 (0.187 sec)\n",
      "INFO:tensorflow:Saving checkpoints for 2000 into linear_regressor\\model.ckpt.\n",
      "INFO:tensorflow:Loss for final step: 4.54995.\n"
     ]
    },
    {
     "data": {
      "text/plain": [
       "<tensorflow.python.estimator.canned.linear.LinearRegressor at 0x1a5a3a9e940>"
      ]
     },
     "execution_count": 34,
     "metadata": {},
     "output_type": "execute_result"
    }
   ],
   "source": [
    "linear_regressor.train(input_fn = training_input_fn,steps=2000)"
   ]
  },
  {
   "cell_type": "markdown",
   "metadata": {},
   "source": [
    "### evaluate on testing data"
   ]
  },
  {
   "cell_type": "code",
   "execution_count": 39,
   "metadata": {},
   "outputs": [
    {
     "name": "stdout",
     "output_type": "stream",
     "text": [
      "INFO:tensorflow:Calling model_fn.\n",
      "INFO:tensorflow:Done calling model_fn.\n",
      "INFO:tensorflow:Starting evaluation at 2018-11-17-20:36:31\n",
      "INFO:tensorflow:Graph was finalized.\n",
      "INFO:tensorflow:Restoring parameters from linear_regressor\\model.ckpt-2000\n",
      "INFO:tensorflow:Running local_init_op.\n",
      "INFO:tensorflow:Done running local_init_op.\n",
      "INFO:tensorflow:Finished evaluation at 2018-11-17-20:36:31\n",
      "INFO:tensorflow:Saving dict for global step 2000: average_loss = 0.14607833, global_step = 2000, label/mean = 4.9801445, loss = 4.595849, prediction/mean = 4.912559\n",
      "INFO:tensorflow:Saving 'checkpoint_path' summary for global step 2000: linear_regressor\\model.ckpt-2000\n"
     ]
    },
    {
     "data": {
      "text/plain": [
       "{'average_loss': 0.14607833,\n",
       " 'label/mean': 4.9801445,\n",
       " 'loss': 4.595849,\n",
       " 'prediction/mean': 4.912559,\n",
       " 'global_step': 2000}"
      ]
     },
     "execution_count": 39,
     "metadata": {},
     "output_type": "execute_result"
    }
   ],
   "source": [
    "linear_regressor.evaluate(input_fn = eval_input_fn)"
   ]
  },
  {
   "cell_type": "markdown",
   "metadata": {},
   "source": [
    "### predict prices"
   ]
  },
  {
   "cell_type": "code",
   "execution_count": 43,
   "metadata": {},
   "outputs": [
    {
     "name": "stdout",
     "output_type": "stream",
     "text": [
      "INFO:tensorflow:Calling model_fn.\n",
      "INFO:tensorflow:Done calling model_fn.\n",
      "INFO:tensorflow:Graph was finalized.\n",
      "INFO:tensorflow:Restoring parameters from linear_regressor\\model.ckpt-2000\n",
      "INFO:tensorflow:Running local_init_op.\n",
      "INFO:tensorflow:Done running local_init_op.\n"
     ]
    }
   ],
   "source": [
    "pred = list(linear_regressor.predict(input_fn = eval_input_fn)) # predict on testing data\n",
    "pred = [p['predictions'][0] for p in pred]"
   ]
  },
  {
   "cell_type": "code",
   "execution_count": 44,
   "metadata": {},
   "outputs": [
    {
     "name": "stdout",
     "output_type": "stream",
     "text": [
      "[ 81.930855  85.52491   91.36684  127.816414 126.743454 199.11696\n",
      " 185.19173  340.20566   83.295876  74.64323  245.02878   78.68419\n",
      " 246.14174  313.14203  142.32222  238.76483   87.48643  160.66743\n",
      " 230.47704   65.19992  171.34329  145.12602   72.522194  55.92858\n",
      " 121.525276  85.6732    84.205475 205.68658  178.85602   98.09506\n",
      " 166.44803   70.54665   89.345665 131.22133   80.33851  104.59043\n",
      " 159.52928   80.60765  200.5039   240.04774  180.5203   196.22249\n",
      " 117.72474  102.63856  140.61818   56.119427  75.35565  199.11192\n",
      " 105.17593  108.608055 101.75667  178.9305   175.9917   205.91965\n",
      " 214.26411   41.56269  111.47384   75.03964  204.20244   77.979225\n",
      " 156.66266   64.61817  226.15784  266.96262  325.49915  145.12602\n",
      " 115.20181  362.0455   113.6179    89.60071  187.8493   128.48425\n",
      "  80.51158  102.310585  82.50418  162.16316  161.8963    97.773445\n",
      " 183.96588  189.17444   81.193436 144.25215  253.51363   81.548225\n",
      " 149.66136  101.90117  184.84229  137.49753  144.828    282.69812\n",
      "  86.33868  115.26374   68.72284   83.071884  83.24533   75.37466\n",
      "  88.0382   129.55472   87.66341  309.6475   105.94529  245.2711\n",
      " 246.95468  167.45923   79.53323  166.13672  246.69363  185.28943\n",
      " 158.50232  139.99805  182.08827   65.275734 217.15138   56.730633\n",
      " 118.79366  238.88373  156.17567  131.29968  158.19742  106.099434\n",
      " 302.25018  225.09714  185.61192   98.96735   78.86253  127.957954\n",
      " 149.1204   107.86727  137.79294  235.15552  113.04889   87.96552\n",
      " 109.04967  163.86742  116.51588  550.2086   145.03352  203.88281\n",
      " 125.434685  53.998074 111.45662  495.01257  163.88329  168.39682\n",
      " 321.86917  101.63544  145.83408   73.52525   88.28694  283.80807\n",
      " 146.1238   138.37585   80.288605  98.97037  182.39285  190.46452\n",
      " 150.39987  163.42879  149.22063   85.310425 161.28773  119.09132\n",
      " 102.64893  112.774734 158.50307  176.8938    97.81304  186.12332\n",
      " 162.85966   54.089916 207.08392   91.25159   91.04731  298.52695\n",
      " 200.89206   90.526306 106.00806  152.3512   234.77547  111.036705\n",
      " 122.24444  143.70636   84.86478   91.2663   121.29544  116.142784\n",
      "  83.15214  181.63292   88.77804  115.20181   84.18151  157.76021\n",
      " 166.91928   77.43661  106.20376  148.77565   93.733246 126.52583\n",
      " 265.24606  145.52954  125.02588  287.443    208.08911  173.61287\n",
      "  76.702286  94.00122   77.05751   92.38955   12.139988 108.77515\n",
      " 198.55539  148.6748    82.17688  119.210686 108.69525   94.15774\n",
      " 195.75848  165.47055  130.70963  224.52332  154.79001  150.42433\n",
      " 169.67615  169.8271   140.06956  219.49925   59.738106  55.626442\n",
      " 226.18933  154.89604   85.77748   90.72185  116.228    124.901764\n",
      " 210.69025   90.52981  160.11586  134.82104   80.961586  99.23046\n",
      " 122.19991  191.08319  102.27127  169.67897   69.87666  102.971214\n",
      "  91.5593   116.28149  189.63786   48.97228  149.33366  228.31235\n",
      " 129.841    186.94197   60.120773 178.6667    77.98826  237.18912\n",
      "  84.3062    92.75942  173.89058   73.941315 184.4547    91.07045\n",
      " 191.59842  107.28041  174.8626   325.04486  154.1445   282.3422\n",
      " 188.85062  114.25692  173.63986   79.0102   172.98228  192.7295\n",
      "  61.069054  81.44218   70.03484  107.48871  200.79706  112.857635\n",
      " 274.22836  128.87216   79.626656 130.2448   147.89067  282.9398\n",
      " 100.855896 176.66577   81.78164  367.78687  104.93277   97.272804\n",
      "  60.502518 148.66156  153.10852  199.38689  115.22181   82.26894\n",
      " 121.54915  162.97618   84.3376   193.24336   90.27173  209.15623\n",
      " 191.81946  101.10947  378.69888  199.74193  237.92722  187.07912\n",
      " 222.58673  191.29187  296.2189   192.28357   95.180145 138.1295\n",
      "  69.89716  205.29924  342.4063    99.386444 126.52191  207.24663\n",
      " 105.111    145.19344  146.01569  116.97341  153.34314  171.90166\n",
      " 203.0593   296.85617   49.344868 105.21871  112.34535  384.66306\n",
      " 217.95982   69.44141  102.6739    73.413     62.384182  65.20011\n",
      " 104.754845 246.05643  187.93199  190.25856  101.51111  206.79037\n",
      " 100.63132   94.25657  146.7887   124.07132  197.26337   80.585175\n",
      " 164.56863  137.5753    80.43913   84.06903  207.64804   85.1912\n",
      "  73.503586 188.86853  197.79468  385.4243   346.12775   81.71626\n",
      " 127.22762  241.15509  108.0945   176.05423   87.24156  163.35027\n",
      "  79.63937  240.72127  101.58175  102.097565  76.61985  208.19641\n",
      " 114.68524  150.51222  223.92392   90.45028  236.61041   21.909811\n",
      "  94.699005 224.68953  316.9422    88.289215 143.81918  159.82295\n",
      " 187.07912  147.52133  128.27196  161.25682  130.99176  106.06044\n",
      " 166.20186  230.86772  306.91068  249.53648  192.0903    64.87504\n",
      "  72.271324 158.52907  513.0118   125.56209  152.10825  167.38228\n",
      " 278.2886    72.967995 166.25749  192.07079   62.41114  155.2278\n",
      " 253.1342   189.41147  212.56386  819.9449    92.510735  50.476425\n",
      " 287.5742   146.36633   71.82351  103.50761  221.19148  116.61671\n",
      " 184.83038  192.5939   210.75746  242.01422   97.23074   51.47164\n",
      "  88.980194 135.53168  100.496765 148.88565  160.78915  129.82825\n",
      " 117.200874 116.64501   88.17432   71.004684 162.46307  331.99234\n",
      " 107.24164  131.06125   93.63671  149.32605  203.2792   126.79018\n",
      " 159.97469   81.65924  173.97684   35.364285  78.38147  237.16705\n",
      "  93.2211    25.832432  68.04002  698.46783  146.47308  148.27339\n",
      " 111.11774  119.45246  180.37961  195.21234   63.461327 170.56587\n",
      "  88.06705  171.39952  151.81413  126.46141  191.14233  264.22482\n",
      " 252.07315  202.9384   120.760925 113.67799  152.95456  138.22919\n",
      " 181.94742  173.05019   74.642235 329.7026   249.44406  288.3199\n",
      " 190.16034  107.64741   91.2153   160.24173  293.85666   94.574005\n",
      " 271.37012  107.78254  172.63422   75.677605 187.07912  201.21638\n",
      " 184.46675  282.9398   205.71463   69.36135  235.48035  170.56587\n",
      " 187.07912   90.00876  107.145905 153.32588  171.06769  184.81479\n",
      "  99.99071  145.12602  217.69579   89.42208  190.81996  102.49403\n",
      " 194.11378  430.08792  136.27075   67.82781  161.8141   182.39285\n",
      "  52.449173 180.84596  313.14203  147.17867   66.62768  322.1096\n",
      " 164.6732   127.18729  208.48918  215.5216   246.16298   62.71537\n",
      "  87.11847  123.29225  313.14203   84.35674  239.97586  110.32312\n",
      " 111.035645 353.79788  148.41245   94.39321  157.90515   82.17634\n",
      " 132.42941  130.04932  164.84871  107.46693  151.5315   121.18918\n",
      "  78.9152    75.37707   79.06666  107.39455   80.93553  117.943474\n",
      "  64.93257  216.49074   68.66437  156.76338   51.4012   220.83528\n",
      " 158.89522  202.57332   83.77127  102.23729  141.07729  137.74052\n",
      " 124.07132  156.44624  150.32724  190.30528   81.00476  177.55371\n",
      " 233.88336   98.28253  102.00745  161.46796  113.32058  157.09637\n",
      "  50.456284 188.66763  153.6463   272.39963  121.84859  200.21948\n",
      " 189.46378  106.26992  103.57046  129.39809  193.07417  138.65802\n",
      "  58.67467  102.1412    71.4706   153.99808  272.52435   78.001205\n",
      " 157.30972  186.83539   88.02431  122.33167   89.26586  142.89847\n",
      " 164.70767   81.06175  147.25398  170.09009  121.74445  359.1477\n",
      "  66.7117   108.53376  156.31761  238.99265  136.62692   70.58767\n",
      " 288.61548  246.12766  168.30025   75.759094 111.62826  272.0506\n",
      "  81.162895 173.05852  288.61548  108.4678    64.65001  109.04894\n",
      " 202.96577  314.01047   88.48406  282.9398   159.90794   65.427895\n",
      "  74.61647  225.84413  255.25816   68.869934 118.484055 139.4823\n",
      "  52.3393    57.310444 118.447845 212.41187  101.61663  215.84465\n",
      " 166.08144  107.19169  229.94463  171.87158  207.62952   74.07355\n",
      " 117.84066  345.04492  136.41008  179.85982   50.468292  94.74973\n",
      " 244.27016  228.53105  183.895     75.27427   70.86594  108.86917\n",
      " 131.09987  129.75076  220.69443  108.69525  137.30019  214.19843\n",
      "  99.31581  192.62009   75.56766  217.40532   83.46107  245.76292\n",
      " 145.02467  131.33301  282.4883    73.33344  103.6536   124.12002\n",
      " 147.10211   89.76595  107.334694 275.85226   85.84503  173.25717\n",
      " 169.10808   88.05579   90.94664   72.71822  241.46692  182.0276\n",
      "  80.26951  221.2609   143.88661  115.34819   77.86315   73.214615\n",
      " 164.70767   74.78056  282.9398   114.159546 211.59384  210.95724\n",
      " 167.9371   128.44493   81.94614  231.22469   85.11909  133.49913\n",
      " 104.840294 370.14105   94.016594 224.80505   83.45765   73.642685\n",
      " 147.28137   50.202686  88.3853   143.50551  185.28271  254.93849\n",
      "  79.36972  231.1345    85.89843   76.17269   55.858273 151.00616\n",
      "  77.98268  189.98424  276.24927  218.99461  119.11721  132.5868\n",
      " 101.4111   218.39781  109.52091  300.00476  115.15239  158.62155\n",
      "  95.88101  100.657906 196.46349  187.07912  157.73056  141.80258\n",
      " 191.84416   99.17048  183.6838   234.29524  219.33646  224.71545\n",
      " 194.61139  120.78062  156.44624  194.79958   87.16643   86.806725\n",
      " 145.54591  106.762184  80.09917  157.80632  300.12122  105.805244\n",
      "  45.61748   82.527275 103.90286  253.72743  147.70406  176.4601\n",
      " 317.0852   438.31934  182.39285   51.83565   87.17478  191.84416\n",
      " 156.50668  203.42068  255.23552  199.5697   152.94005  115.425224\n",
      "  97.272804 247.11064   35.74215   91.97851  263.06836  502.1902\n",
      "  71.13438   46.861687 149.18655  146.52779   82.53137  165.75311\n",
      " 182.21596   80.017975 212.37085  148.9044   137.73921   93.122116\n",
      " 276.66873  229.84444  162.23456  103.519104 127.91373  201.78578\n",
      " 104.01723   86.045395  72.80458  229.50471  132.2094   104.761536\n",
      " 252.52539  184.16028 ]\n"
     ]
    }
   ],
   "source": [
    "prices = np.exp(pred) #take exponential\n",
    "print(prices)"
   ]
  },
  {
   "cell_type": "code",
   "execution_count": null,
   "metadata": {},
   "outputs": [],
   "source": []
  }
 ],
 "metadata": {
  "kernelspec": {
   "display_name": "Python 3",
   "language": "python",
   "name": "python3"
  },
  "language_info": {
   "codemirror_mode": {
    "name": "ipython",
    "version": 3
   },
   "file_extension": ".py",
   "mimetype": "text/x-python",
   "name": "python",
   "nbconvert_exporter": "python",
   "pygments_lexer": "ipython3",
   "version": "3.6.7"
  }
 },
 "nbformat": 4,
 "nbformat_minor": 2
}
